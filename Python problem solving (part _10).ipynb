{
 "cells": [
  {
   "cell_type": "markdown",
   "id": "47844b5d",
   "metadata": {},
   "source": [
    "# Python problem solving (part _10)"
   ]
  },
  {
   "cell_type": "markdown",
   "id": "b0e02754",
   "metadata": {},
   "source": [
    "# Nested List Problems:"
   ]
  },
  {
   "cell_type": "markdown",
   "id": "1ee211e3",
   "metadata": {},
   "source": [
    "59. Nested List Element Access: Given a nested list, write a Python program to access and print specific elements from it."
   ]
  },
  {
   "cell_type": "code",
   "execution_count": 5,
   "id": "38e70b9b",
   "metadata": {},
   "outputs": [
    {
     "name": "stdout",
     "output_type": "stream",
     "text": [
      "Original Nested list:\n",
      "[[1, 2, 3], [2, 4, 5], [1, 1, 1]]\n",
      "Extract 1st column:\n",
      "[1, 2, 1]\n",
      "\n",
      "Original Nested list:\n",
      "[[1, 2, 3], [-2, 4, -5], [1, -1, 1]]\n",
      "Extract 3rd column:\n",
      "[3, -5, 1]\n"
     ]
    }
   ],
   "source": [
    "def remove_column(nums, n):\n",
    "  \n",
    "   result = [i.pop(n) for i in nums]\n",
    "   \n",
    "   return result \n",
    "\n",
    "# Create a nested list 'list1'\n",
    "list1 = [[1, 2, 3], [2, 4, 5], [1, 1, 1]]\n",
    "\n",
    "# Set the column index 'n' to 0\n",
    "n = 0\n",
    "\n",
    "print(\"Original Nested list:\")\n",
    "print(list1)\n",
    "\n",
    "print(\"Extract 1st column:\")\n",
    "\n",
    "# Call the 'remove_column' function with 'list1' and 'n' and print the result\n",
    "print(remove_column(list1, n))\n",
    "\n",
    "# Create another nested list 'list2'\n",
    "list2 = [[1, 2, 3], [-2, 4, -5], [1, -1, 1]]\n",
    "\n",
    "n = 2\n",
    "\n",
    "# Print a message indicating the original nested list\n",
    "print(\"\\nOriginal Nested list:\")\n",
    "# Print the contents of 'list2\n",
    "print(list2)\n",
    "print(\"Extract 3rd column:\")\n",
    "print(remove_column(list2, n))"
   ]
  },
  {
   "cell_type": "markdown",
   "id": "25c0a964",
   "metadata": {},
   "source": [
    "# 60. Nested List Flattening: Write a Python program to flatten a nested list and convert it into a single-dimensional list."
   ]
  },
  {
   "cell_type": "code",
   "execution_count": null,
   "id": "b4a60744",
   "metadata": {},
   "outputs": [],
   "source": [
    "def flatten_nested_list(nested_list):\n",
    "    flat_list = []\n",
    "    for sublist in nested_list:\n",
    "        if isinstance(sublist, list):\n",
    "            flat_list.extend(flatten_nested_list(sublist))\n",
    "        else:\n",
    "            flat_list.append(sublist)\n",
    "    return flat_list\n",
    "\n",
    "# Get user input for the nested list\n",
    "input_nested_list = input(\"Enter a nested list separated by spaces: \")\n",
    "nested_list = eval(input_nested_list) \n",
    "# Flatten the nested list\n",
    "flat_result = flatten_nested_list(nested_list)\n",
    "print(\"Flattened List:\", flat_result)\n"
   ]
  },
  {
   "cell_type": "markdown",
   "id": "9faf58d4",
   "metadata": {},
   "source": [
    "# 61. Nested List Sorting: Given a nested list containing lists of integers, write a Python program to sort the sublists based on their lengths."
   ]
  },
  {
   "cell_type": "code",
   "execution_count": null,
   "id": "f1e0f410",
   "metadata": {},
   "outputs": [],
   "source": [
    "\n",
    "Input = [['Machine', 'London', 'Canada', 'France', 'Lanka'],\n",
    "         ['Spain', 'Munich'],\n",
    "         ['Australia', 'Mandi']]\n",
    " \n",
    "# Using map for sorting\n",
    "Output = list(map(sorted, Input))\n",
    " \n",
    "# Printing output\n",
    "print(Output)"
   ]
  },
  {
   "cell_type": "markdown",
   "id": "579565e9",
   "metadata": {},
   "source": [
    "# 62. List of Tuples Conversion: Given a nested list containing tuples of (x, y) coordinates, write a Python program to convert it into a list of x-coordinates and a list of y-coordinates."
   ]
  },
  {
   "cell_type": "code",
   "execution_count": null,
   "id": "1b1bd9b9",
   "metadata": {},
   "outputs": [],
   "source": [
    "List1 = [1, 2, 5, 6]\n",
    "\n",
    "res = [(val, pow(val, 3)) for val in list1]\n",
    "\n",
    "print(res)"
   ]
  },
  {
   "cell_type": "markdown",
   "id": "17ccba4f",
   "metadata": {},
   "source": [
    "# 63. Matrix Transpose: Write a Python program to transpose a given matrix represented as a nested list."
   ]
  },
  {
   "cell_type": "code",
   "execution_count": null,
   "id": "07b0e1ad",
   "metadata": {},
   "outputs": [],
   "source": [
    "# Program to transpose a matrix using a nested loop\n",
    "\n",
    "X = [[12,7],\n",
    "    [4 ,5],\n",
    "    [3 ,8]]\n",
    "\n",
    "result = [[0,0,0],\n",
    "         [0,0,0]]\n",
    "\n",
    "# iterate through rows\n",
    "for i in range(len(X)):\n",
    "   # iterate through columns\n",
    "   for j in range(len(X[0])):\n",
    "       result[j][i] = X[i][j]\n",
    "\n",
    "for r in result:\n",
    "   print(r)\n"
   ]
  },
  {
   "cell_type": "code",
   "execution_count": null,
   "id": "fe3c71e9",
   "metadata": {},
   "outputs": [],
   "source": []
  }
 ],
 "metadata": {
  "kernelspec": {
   "display_name": "Python 3 (ipykernel)",
   "language": "python",
   "name": "python3"
  },
  "language_info": {
   "codemirror_mode": {
    "name": "ipython",
    "version": 3
   },
   "file_extension": ".py",
   "mimetype": "text/x-python",
   "name": "python",
   "nbconvert_exporter": "python",
   "pygments_lexer": "ipython3",
   "version": "3.11.5"
  }
 },
 "nbformat": 4,
 "nbformat_minor": 5
}
